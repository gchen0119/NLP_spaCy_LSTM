{
 "cells": [
  {
   "cell_type": "markdown",
   "metadata": {},
   "source": [
    "# spacy + cuDNNLSTM Implementation for Sentiment Analysis\n",
    "The [data](https://www.kaggle.com/bittlingmayer/amazonreviews) is downloaded from Kaggle, and data cleaning and preprocessing uses the codes modified from the [kernel by Anshul Rai](https://www.kaggle.com/anshulrai/cudnnlstm-implementation-93-7-accuracy)."
   ]
  },
  {
   "cell_type": "code",
   "execution_count": 5,
   "metadata": {},
   "outputs": [
    {
     "name": "stdout",
     "output_type": "stream",
     "text": [
      "['train.ft.txt', 'test.ft.txt.bz2', 'test.ft.txt', 'train.ft.txt.bz2', 'amazonreviews.zip']\n"
     ]
    }
   ],
   "source": [
    "import SentimentAnalyser # spaCy\n",
    "import numpy as np \n",
    "import pandas as pd \n",
    "import bz2\n",
    "import gc # garbage collector, release unused memory\n",
    "import chardet\n",
    "import re\n",
    "import os\n",
    "print(os.listdir(\"./input\"))\n",
    "from keras.models import Model, Sequential\n",
    "from keras.layers import Dense, Embedding, Input, Conv1D, GlobalMaxPool1D, Dropout, concatenate, Layer, InputSpec, CuDNNLSTM\n",
    "from keras.preprocessing import text, sequence\n",
    "from keras.callbacks import EarlyStopping, ModelCheckpoint\n",
    "from keras import backend as K\n",
    "from keras import activations, initializers, regularizers, constraints\n",
    "from keras.utils.conv_utils import conv_output_length\n",
    "from keras.regularizers import l2\n",
    "from keras.constraints import maxnorm\n",
    "\n"
   ]
  },
  {
   "cell_type": "code",
   "execution_count": 24,
   "metadata": {},
   "outputs": [],
   "source": [
    "test_file = bz2.BZ2File('./input/test.ft.txt.bz2')\n",
    "train_file = bz2.BZ2File('./input/train.ft.txt.bz2')"
   ]
  },
  {
   "cell_type": "code",
   "execution_count": 26,
   "metadata": {},
   "outputs": [],
   "source": [
    "def readbinary2list(file): \n",
    "    lines = file.readlines()\n",
    "    lines = [line.decode('utf-8') for line in lines]\n",
    "    labels = [0 if line.split(' ')[0] == '__label__1' else 1 for line in lines]\n",
    "    sentences = [line.split(' ', 1)[1][:-1].lower() for line in lines]\n",
    "    for i in range(len(sentences)):\n",
    "        sentences[i] = re.sub('\\d','0',sentences[i])\n",
    "        if 'www.' in sentences[i] or 'http:' in sentences[i] or 'https:' in sentences[i] or '.com' in sentences[i]:\n",
    "            sentences[i] = re.sub(r\"([^ ]+(?<=\\.[a-z]{3}))\", \"<url>\", sentences[i])    \n",
    "    return labels, sentences"
   ]
  },
  {
   "cell_type": "code",
   "execution_count": 27,
   "metadata": {},
   "outputs": [],
   "source": [
    "test_labels,test_sentences = readbinary2list(test_file)\n",
    "train_labels,train_sentences = readbinary2list(train_file)"
   ]
  },
  {
   "cell_type": "code",
   "execution_count": 48,
   "metadata": {},
   "outputs": [
    {
     "name": "stdout",
     "output_type": "stream",
     "text": [
      "label: 1 \n",
      "\n",
      "sentences: \n",
      "stuning even for the non-gamer: this sound track was beautiful! it paints the senery in your mind so well i would recomend it even to people who hate vid. game music! i have played the game chrono cross but out of all of the games i have ever played it has the best music! it backs away from crude keyboarding and takes a fresher step with grate guitars and soulful orchestras. it would impress anyone who cares to listen! ^_^\n",
      "\n",
      "label: 0 \n",
      "\n",
      "sentences: \n",
      "buyer beware: this is a self-published book, and if you want to know why--read a few paragraphs! those 0 star reviews must have been written by ms. haddon's family and friends--or perhaps, by herself! i can't imagine anyone reading the whole thing--i spent an evening with the book and a friend and we were in hysterics reading bits and pieces of it to one another. it is most definitely bad enough to be entered into some kind of a \"worst book\" contest. i can't believe amazon even sells this kind of thing. maybe i can offer them my 0th grade term paper on \"to kill a mockingbird\"--a book i am quite sure ms. haddon never heard of. anyway, unless you are in a mood to send a book to someone as a joke---stay far, far away from this one!\n",
      "\n"
     ]
    }
   ],
   "source": [
    "i=0\n",
    "print('label: %s \\n\\nsentences: \\n%s\\n'%(train_labels[i],train_sentences[i]))\n",
    "\n",
    "i=6\n",
    "print('label: %s \\n\\nsentences: \\n%s\\n'%(train_labels[i],train_sentences[i]))"
   ]
  },
  {
   "cell_type": "code",
   "execution_count": 47,
   "metadata": {},
   "outputs": [
    {
     "data": {
      "text/plain": [
       "1089"
      ]
     },
     "execution_count": 47,
     "metadata": {},
     "output_type": "execute_result"
    }
   ],
   "source": [
    "gc.collect() # free memory"
   ]
  },
  {
   "cell_type": "code",
   "execution_count": null,
   "metadata": {},
   "outputs": [],
   "source": [
    "max_features = 20000\n",
    "maxlen = 100"
   ]
  },
  {
   "cell_type": "code",
   "execution_count": null,
   "metadata": {},
   "outputs": [],
   "source": [
    "tokenizer = text.Tokenizer(num_words=max_features)"
   ]
  },
  {
   "cell_type": "markdown",
   "metadata": {},
   "source": [
    "# Reference\n",
    "* [cuDNNLSTM keras doc](https://keras.io/layers/recurrent/)\n",
    "* [cuDNNLSTM implement project](https://www.kaggle.com/anshulrai/cudnnlstm-implementation-93-7-accuracy)\n",
    "* [spaCy sentiment git](https://github.com/explosion/spaCy/blob/master/examples/deep_learning_keras.py)\n",
    "* [spaCy](https://spacy.io/models/)\n",
    "* [Python kaggle docker](https://github.com/Kaggle/docker-python/blob/master/Dockerfile)"
   ]
  },
  {
   "cell_type": "code",
   "execution_count": null,
   "metadata": {},
   "outputs": [],
   "source": []
  }
 ],
 "metadata": {
  "kernelspec": {
   "display_name": "Python 3",
   "language": "python",
   "name": "python3"
  },
  "language_info": {
   "codemirror_mode": {
    "name": "ipython",
    "version": 3
   },
   "file_extension": ".py",
   "mimetype": "text/x-python",
   "name": "python",
   "nbconvert_exporter": "python",
   "pygments_lexer": "ipython3",
   "version": "3.5.0"
  }
 },
 "nbformat": 4,
 "nbformat_minor": 2
}
